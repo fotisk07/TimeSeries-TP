{
 "cells": [
  {
   "cell_type": "markdown",
   "id": "afb72815-74ef-4b27-b413-26c1c4f20652",
   "metadata": {
    "tags": []
   },
   "source": [
    "# Setup"
   ]
  },
  {
   "cell_type": "markdown",
   "id": "77573173-e7b9-46b4-ae78-a0f9b0d87351",
   "metadata": {},
   "source": [
    "**Imports**"
   ]
  },
  {
   "cell_type": "code",
   "execution_count": 2,
   "id": "263236fe-6d00-45aa-80f1-e36765758e9a",
   "metadata": {},
   "outputs": [],
   "source": [
    "import numpy as np\n",
    "import matplotlib.pyplot as plt\n",
    "from loadmydata.load_human_locomotion import (\n",
    "    load_human_locomotion_dataset,\n",
    "    get_code_list,\n",
    ")"
   ]
  },
  {
   "cell_type": "markdown",
   "id": "02ce9a17-6c03-4343-b2d4-c5dc94eac178",
   "metadata": {},
   "source": [
    "**Utility functions**"
   ]
  },
  {
   "cell_type": "code",
   "execution_count": 74,
   "id": "53469a53-92a0-403d-9bb4-544cd0e7a1db",
   "metadata": {},
   "outputs": [],
   "source": [
    "def fig_ax(figsize=(15, 5)):\n",
    "    fig, ax = plt.subplots(figsize=figsize)\n",
    "    ax.autoscale(enable=True, axis='x', tight=True)\n",
    "    return fig, ax"
   ]
  },
  {
   "cell_type": "markdown",
   "id": "3c7389c8-24b0-475f-9fa8-93d117311f52",
   "metadata": {},
   "source": [
    "# Spectral feature"
   ]
  },
  {
   "cell_type": "markdown",
   "id": "2cbabb4f-0ba7-43a6-80e4-9dab3d914407",
   "metadata": {},
   "source": [
    "## Question 6"
   ]
  },
  {
   "cell_type": "code",
   "execution_count": 70,
   "id": "6aeb640e",
   "metadata": {},
   "outputs": [],
   "source": [
    "def gamma_hat(signal):\n",
    "    signal = signal - signal.mean()\n",
    "    N = len(signal)\n",
    "    corr = np.correlate(signal, signal, mode=\"full\")[N-1:] / N\n",
    "    return corr\n",
    "\n",
    "def J(signal):\n",
    "    N = len(signal)\n",
    "    signal = signal - signal.mean()\n",
    "    S = np.fft.fft(signal)\n",
    "    \n",
    "    return (np.abs(1/np.sqrt(N) * S)**2)[:N//2 + 1]\n"
   ]
  },
  {
   "cell_type": "code",
   "execution_count": 71,
   "id": "88f15c76-4764-4ee0-abd4-26260ed1b272",
   "metadata": {},
   "outputs": [],
   "source": [
    "### Sample autocovariances ###\n",
    "\n",
    "Ns = [200,500,1000]\n",
    "N_sim = 100\n",
    "\n",
    "for N in Ns:\n",
    "    signals = np.random.rand(N_sim, N)\n",
    "    gamma = np.zeros((N_sim,N))\n",
    "    Jf = np.zeros((N_sim, N//2+1))\n",
    "    for i,signal in enumerate(signals):\n",
    "        gamma[i] = gamma_hat(signal)\n",
    "        Jf[i] = J(signal)\n",
    "\n",
    "\n",
    "    mean = gamma.mean(axis=0)\n",
    "    std = gamma.std(axis=0)\n",
    "    taus = np.arange(N)\n",
    "\n",
    "    mean_freq_powe = Jf.mean(axis=0)\n",
    "    std_freq_powe = Jf.std(axis=0)\n",
    "    freqs = np.arange(N//2+1)\n",
    "\n",
    "    plt.figure(figsize=(12, 6))\n",
    "    plt.plot(taus, mean, color='C0')\n",
    "    plt.fill_between(taus, mean - std, mean + std, color='C0', alpha=0.3)\n",
    "    plt.xlabel(\"τ (lag)\")\n",
    "    plt.ylabel(r\"$\\hat{\\gamma}(\\tau)$\")\n",
    "    plt.title(f\"Estimated autocovariance (N={N})\")\n",
    "    plt.tight_layout()\n",
    "    plt.savefig(f\"figures/gamma_N{N}.png\", dpi=300)\n",
    "    plt.close()  \n",
    "\n",
    "    plt.figure(figsize=(12, 6))\n",
    "    plt.plot(freqs, mean_freq_powe, color='C0')\n",
    "    plt.fill_between(freqs, mean_freq_powe - std_freq_powe, mean_freq_powe + std_freq_powe, color='C0', alpha=0.3)\n",
    "    plt.xlabel(\"f (frequency)\")\n",
    "    plt.ylabel(r\"$|J(f_k)|^2$\")\n",
    "    plt.title(f\"Estimated periodogram (N={N})\")\n",
    "    plt.tight_layout()\n",
    "    plt.savefig(f\"figures/Jfk**2_N{N}.png\", dpi=300)\n",
    "    plt.close()  \n",
    "\n",
    "\n"
   ]
  },
  {
   "cell_type": "markdown",
   "id": "8e93f8f9-a5f4-4918-b1cb-06dcf94e4282",
   "metadata": {},
   "source": [
    "## Question 9"
   ]
  },
  {
   "cell_type": "code",
   "execution_count": null,
   "id": "207edbf1-986a-49f2-bf06-2b8a46e58545",
   "metadata": {},
   "outputs": [],
   "source": []
  },
  {
   "cell_type": "markdown",
   "id": "caf9a94c-244a-470b-b9d6-ce9be480abfa",
   "metadata": {
    "tags": []
   },
   "source": [
    "# Dynamic time warping (DTW)"
   ]
  },
  {
   "cell_type": "markdown",
   "id": "a1dd4390-73c6-47f5-9ddd-2a01bf43d4ec",
   "metadata": {
    "tags": []
   },
   "source": [
    "## Data\n",
    "\n",
    "This data set consists of signals collected with inertial measurement units (accelerometer+gyroscope), from 230 subjects undergoing a fixed protocol:\n",
    "- standing still,\n",
    "- walking 10 m,\n",
    "- turning around,\n",
    "- walking back,\n",
    "- stopping.\n",
    "\n",
    "In this assignment, we only consider the vertical acceleration of the left foot and all signals are truncated to 20 seconds (as a result, they all have same length). Signals are sampled at 100 Hz.\n",
    "\n",
    "The measured population is composed of healthy subjects as well as patients with neurological or orthopedic disorders.\n",
    "\n",
    "The start and end time stamps of thousands of footsteps are available.\n",
    "\n",
    "The data are part of a larger data set described in [1].\n",
    "\n",
    "[1] Truong, C., Barrois-Müller, R., Moreau, T., Provost, C., Vienne-Jumeau, A., Moreau, A., Vidal, P.-P., Vayatis, N., Buffat, S., Yelnik, A., Ricard, D., & Oudre, L. (2019). A data set for the study of human locomotion with inertial measurements units. Image Processing On Line (IPOL), 9."
   ]
  },
  {
   "cell_type": "markdown",
   "id": "0870017f-15e9-45b6-ae13-905810b89f9f",
   "metadata": {},
   "source": [
    "**The task** is to classify footsteps in healthy/non-healthy."
   ]
  },
  {
   "cell_type": "markdown",
   "id": "b2feb6bf-cced-46a7-b6bf-9c04c2cfbeb0",
   "metadata": {
    "tags": []
   },
   "source": [
    "The following cell defines the training set `(X_train, y_train)` and testing set `(X_test, y_test)`."
   ]
  },
  {
   "cell_type": "code",
   "execution_count": 3,
   "id": "0255e82c-dd54-4e9e-bea8-50284f2588d2",
   "metadata": {},
   "outputs": [
    {
     "ename": "AssertionError",
     "evalue": "The code 17-1 cannot be found in the data set.",
     "output_type": "error",
     "traceback": [
      "\u001b[0;31m---------------------------------------------------------------------------\u001b[0m",
      "\u001b[0;31mAssertionError\u001b[0m                            Traceback (most recent call last)",
      "Cell \u001b[0;32mIn[3], line 10\u001b[0m\n\u001b[1;32m      7\u001b[0m y_train \u001b[38;5;241m=\u001b[39m \u001b[38;5;28mlist\u001b[39m()  \u001b[38;5;66;03m# list of pathologies (the \"labels\")\u001b[39;00m\n\u001b[1;32m      9\u001b[0m \u001b[38;5;28;01mfor\u001b[39;00m code \u001b[38;5;129;01min\u001b[39;00m np\u001b[38;5;241m.\u001b[39mtake(code_list, subset_indexes_train):\n\u001b[0;32m---> 10\u001b[0m     single_trial \u001b[38;5;241m=\u001b[39m \u001b[43mload_human_locomotion_dataset\u001b[49m\u001b[43m(\u001b[49m\u001b[43mcode\u001b[49m\u001b[43m)\u001b[49m\n\u001b[1;32m     11\u001b[0m     signal \u001b[38;5;241m=\u001b[39m single_trial\u001b[38;5;241m.\u001b[39msignal\u001b[38;5;241m.\u001b[39mLAZ\u001b[38;5;241m.\u001b[39mto_numpy()  \u001b[38;5;66;03m# keeping only one dimension (from the left sensor)\u001b[39;00m\n\u001b[1;32m     12\u001b[0m     steps \u001b[38;5;241m=\u001b[39m single_trial\u001b[38;5;241m.\u001b[39mleft_steps\n",
      "File \u001b[0;32m~/MVA/TimeSeries/TimeSeries-TP/TP1/.venv/lib/python3.10/site-packages/loadmydata/load_human_locomotion.py:153\u001b[0m, in \u001b[0;36mload_human_locomotion_dataset\u001b[0;34m(code)\u001b[0m\n\u001b[1;32m    151\u001b[0m download_from_remote_human_locomotion()\n\u001b[1;32m    152\u001b[0m \u001b[38;5;66;03m# get data\u001b[39;00m\n\u001b[0;32m--> 153\u001b[0m signal \u001b[38;5;241m=\u001b[39m \u001b[43mload_trial\u001b[49m\u001b[43m(\u001b[49m\u001b[43mcode\u001b[49m\u001b[43m)\u001b[49m\n\u001b[1;32m    154\u001b[0m metadata \u001b[38;5;241m=\u001b[39m load_metadata(code)\n\u001b[1;32m    155\u001b[0m left_steps \u001b[38;5;241m=\u001b[39m np\u001b[38;5;241m.\u001b[39marray(metadata\u001b[38;5;241m.\u001b[39mpop(\u001b[38;5;124m\"\u001b[39m\u001b[38;5;124mLeftFootActivity\u001b[39m\u001b[38;5;124m\"\u001b[39m))\n",
      "File \u001b[0;32m~/MVA/TimeSeries/TimeSeries-TP/TP1/.venv/lib/python3.10/site-packages/loadmydata/load_human_locomotion.py:121\u001b[0m, in \u001b[0;36mload_trial\u001b[0;34m(code)\u001b[0m\n\u001b[1;32m    112\u001b[0m \u001b[38;5;28;01mdef\u001b[39;00m\u001b[38;5;250m \u001b[39m\u001b[38;5;21mload_trial\u001b[39m(code: \u001b[38;5;28mstr\u001b[39m) \u001b[38;5;241m-\u001b[39m\u001b[38;5;241m>\u001b[39m pd\u001b[38;5;241m.\u001b[39mDataFrame:\n\u001b[1;32m    113\u001b[0m \u001b[38;5;250m    \u001b[39m\u001b[38;5;124;03m\"\"\"Returns the signal of the trial.\u001b[39;00m\n\u001b[1;32m    114\u001b[0m \n\u001b[1;32m    115\u001b[0m \u001b[38;5;124;03m    Args:\u001b[39;00m\n\u001b[0;32m   (...)\u001b[0m\n\u001b[1;32m    119\u001b[0m \u001b[38;5;124;03m        pd.DataFrame: Signal of the the trial, shape (n_sample, n_dimension).\u001b[39;00m\n\u001b[1;32m    120\u001b[0m \u001b[38;5;124;03m    \"\"\"\u001b[39;00m\n\u001b[0;32m--> 121\u001b[0m     fname \u001b[38;5;241m=\u001b[39m \u001b[43mget_trial_filename\u001b[49m\u001b[43m(\u001b[49m\u001b[43mcode\u001b[49m\u001b[43m)\u001b[49m\n\u001b[1;32m    122\u001b[0m     df \u001b[38;5;241m=\u001b[39m pd\u001b[38;5;241m.\u001b[39mread_csv(fname\u001b[38;5;241m.\u001b[39mwith_suffix(\u001b[38;5;124m\"\u001b[39m\u001b[38;5;124m.csv\u001b[39m\u001b[38;5;124m\"\u001b[39m), sep\u001b[38;5;241m=\u001b[39m\u001b[38;5;124m\"\u001b[39m\u001b[38;5;124m,\u001b[39m\u001b[38;5;124m\"\u001b[39m)\n\u001b[1;32m    123\u001b[0m     \u001b[38;5;28;01mreturn\u001b[39;00m df\n",
      "File \u001b[0;32m~/MVA/TimeSeries/TimeSeries-TP/TP1/.venv/lib/python3.10/site-packages/loadmydata/load_human_locomotion.py:55\u001b[0m, in \u001b[0;36mget_trial_filename\u001b[0;34m(code)\u001b[0m\n\u001b[1;32m     53\u001b[0m local_cache_data \u001b[38;5;241m=\u001b[39m get_local_data_path(DATASET_NAME)\n\u001b[1;32m     54\u001b[0m filename \u001b[38;5;241m=\u001b[39m local_cache_data \u001b[38;5;241m/\u001b[39m code\n\u001b[0;32m---> 55\u001b[0m \u001b[38;5;28;01massert\u001b[39;00m filename\u001b[38;5;241m.\u001b[39mwith_suffix(\n\u001b[1;32m     56\u001b[0m     \u001b[38;5;124m\"\u001b[39m\u001b[38;5;124m.csv\u001b[39m\u001b[38;5;124m\"\u001b[39m\n\u001b[1;32m     57\u001b[0m )\u001b[38;5;241m.\u001b[39mexists(), \u001b[38;5;124mf\u001b[39m\u001b[38;5;124m\"\u001b[39m\u001b[38;5;124mThe code \u001b[39m\u001b[38;5;132;01m{\u001b[39;00mcode\u001b[38;5;132;01m}\u001b[39;00m\u001b[38;5;124m cannot be found in the data set.\u001b[39m\u001b[38;5;124m\"\u001b[39m\n\u001b[1;32m     58\u001b[0m \u001b[38;5;28;01mreturn\u001b[39;00m filename\n",
      "\u001b[0;31mAssertionError\u001b[0m: The code 17-1 cannot be found in the data set."
     ]
    }
   ],
   "source": [
    "subset_indexes_train = [95, 619, 441, 149, 951, 803, 214, 34, 37, 630]\n",
    "subset_indexes_test = [683, 259, 59, 387, 634]\n",
    "\n",
    "code_list = get_code_list()\n",
    "\n",
    "X_train = list()  # list of footstep signals\n",
    "y_train = list()  # list of pathologies (the \"labels\")\n",
    "\n",
    "for code in np.take(code_list, subset_indexes_train):\n",
    "    single_trial = load_human_locomotion_dataset(code)\n",
    "    signal = single_trial.signal.LAZ.to_numpy()  # keeping only one dimension (from the left sensor)\n",
    "    steps = single_trial.left_steps\n",
    "    pathology = single_trial.metadata[\"PathologyGroup\"]\n",
    "    label = 0 if pathology==\"Healthy\" else 1  # 0: healthy, 1: non-healthy\n",
    "    for (start, end) in steps:\n",
    "        X_train.append(signal[start:end])\n",
    "        y_train.append(label)\n",
    "\n",
    "        \n",
    "X_test = list()  # list of footstep signals\n",
    "y_test = list()  # list of pathologies (the \"labels\")\n",
    "\n",
    "for code in np.take(code_list, subset_indexes_test):\n",
    "    single_trial = load_human_locomotion_dataset(code)\n",
    "    signal = single_trial.signal.LAZ.to_numpy()  # keeping only one dimension (from the left sensor)\n",
    "    steps = single_trial.left_steps\n",
    "    pathology = single_trial.metadata[\"PathologyGroup\"]\n",
    "    label = 0 if pathology==\"Healthy\" else 1  # 0: healthy, 1: non-healthy\n",
    "    for (start, end) in steps:\n",
    "        X_test.append(signal[start:end])\n",
    "        y_test.append(label)"
   ]
  },
  {
   "cell_type": "markdown",
   "id": "d25264b9-5970-49db-8171-bdd32d9b4134",
   "metadata": {},
   "source": [
    "## Question 10"
   ]
  },
  {
   "cell_type": "code",
   "execution_count": null,
   "id": "89f90fd4-aaa7-43bc-94ee-912341dbcc91",
   "metadata": {},
   "outputs": [],
   "source": []
  },
  {
   "cell_type": "markdown",
   "id": "78fe3993-ace3-4bb7-8132-1f2cc96c0edf",
   "metadata": {},
   "source": [
    "## Question 11"
   ]
  },
  {
   "cell_type": "code",
   "execution_count": null,
   "id": "52310cc2-bd01-45a4-9fa1-0891be2d5691",
   "metadata": {},
   "outputs": [],
   "source": []
  }
 ],
 "metadata": {
  "kernelspec": {
   "display_name": "Python 3 (ipykernel)",
   "language": "python",
   "name": "python3"
  },
  "language_info": {
   "codemirror_mode": {
    "name": "ipython",
    "version": 3
   },
   "file_extension": ".py",
   "mimetype": "text/x-python",
   "name": "python",
   "nbconvert_exporter": "python",
   "pygments_lexer": "ipython3",
   "version": "3.10.8"
  },
  "toc-autonumbering": true
 },
 "nbformat": 4,
 "nbformat_minor": 5
}
